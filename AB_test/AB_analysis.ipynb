{
 "cells": [
  {
   "cell_type": "code",
   "execution_count": 1,
   "id": "94ead3e8-3817-4da3-9bcc-73c13e9f9b74",
   "metadata": {},
   "outputs": [],
   "source": [
    "import pandahouse as ph\n",
    "import pandas as pd\n",
    "import numpy as np\n",
    "import hashlib\n",
    "from scipy import stats\n",
    "from scipy.stats import ttest_ind\n",
    "import seaborn as sns\n",
    "import matplotlib.pyplot as plt\n",
    "%matplotlib inline\n",
    "import pylab"
   ]
  },
  {
   "cell_type": "code",
   "execution_count": 2,
   "id": "c7d418e4-f9fe-4f03-ad25-2e363bfe811e",
   "metadata": {},
   "outputs": [],
   "source": [
    "#Подключаемся к базе данных\n",
    "connection = {'host': 'https://clickhouse.lab.karpov.courses',\n",
    "                      'database':'simulator_20230420',\n",
    "                      'user':'student', \n",
    "                      'password':'dpo_python_2020'}"
   ]
  },
  {
   "cell_type": "code",
   "execution_count": 10,
   "id": "4b9e9bc9",
   "metadata": {},
   "outputs": [],
   "source": [
    "#Код для разбиения наших юзеров на независимые группы\n",
    "def ab_split(id, salt='exp_mess_1', n_groups=5):\n",
    "    test_id = str(id) + '-' + str(salt)\n",
    "    test_id_digest = hashlib.md5(test_id.encode('ascii')).hexdigest()\n",
    "    test_id_final_int = int(test_id_digest, 16)\n",
    "    return test_id_final_int % n_groups"
   ]
  },
  {
   "cell_type": "code",
   "execution_count": 11,
   "id": "87343f35",
   "metadata": {
    "scrolled": true
   },
   "outputs": [
    {
     "data": {
      "text/html": [
       "<div>\n",
       "<style scoped>\n",
       "    .dataframe tbody tr th:only-of-type {\n",
       "        vertical-align: middle;\n",
       "    }\n",
       "\n",
       "    .dataframe tbody tr th {\n",
       "        vertical-align: top;\n",
       "    }\n",
       "\n",
       "    .dataframe thead th {\n",
       "        text-align: right;\n",
       "    }\n",
       "</style>\n",
       "<table border=\"1\" class=\"dataframe\">\n",
       "  <thead>\n",
       "    <tr style=\"text-align: right;\">\n",
       "      <th></th>\n",
       "      <th>hash_group</th>\n",
       "      <th>user_id</th>\n",
       "    </tr>\n",
       "  </thead>\n",
       "  <tbody>\n",
       "    <tr>\n",
       "      <th>0</th>\n",
       "      <td>0</td>\n",
       "      <td>10151</td>\n",
       "    </tr>\n",
       "    <tr>\n",
       "      <th>1</th>\n",
       "      <td>1</td>\n",
       "      <td>9982</td>\n",
       "    </tr>\n",
       "    <tr>\n",
       "      <th>2</th>\n",
       "      <td>2</td>\n",
       "      <td>9977</td>\n",
       "    </tr>\n",
       "    <tr>\n",
       "      <th>3</th>\n",
       "      <td>3</td>\n",
       "      <td>9963</td>\n",
       "    </tr>\n",
       "    <tr>\n",
       "      <th>4</th>\n",
       "      <td>4</td>\n",
       "      <td>10076</td>\n",
       "    </tr>\n",
       "  </tbody>\n",
       "</table>\n",
       "</div>"
      ],
      "text/plain": [
       "   hash_group  user_id\n",
       "0           0    10151\n",
       "1           1     9982\n",
       "2           2     9977\n",
       "3           3     9963\n",
       "4           4    10076"
      ]
     },
     "execution_count": 11,
     "metadata": {},
     "output_type": "execute_result"
    }
   ],
   "source": [
    "q = \"\"\"\n",
    "SELECT distinct user_id\n",
    "FROM {db}.feed_actions \n",
    "WHERE toDate(time) between '2023-04-01' and '2023-04-07'\n",
    "\"\"\"\n",
    "\n",
    "# Вытащили пользователей\n",
    "users_df = ph.read_clickhouse(q, connection=connection)\n",
    "\n",
    "# Сделали группы\n",
    "users_df['hash_group'] = users_df.user_id.apply(ab_split)\n",
    "\n",
    "# Смотрим на число пользователей в каждой группе\n",
    "users_df.groupby('hash_group').user_id.nunique().reset_index()"
   ]
  },
  {
   "cell_type": "code",
   "execution_count": 12,
   "id": "c594741b-6d7b-4a0b-a235-5b9843efdd8d",
   "metadata": {
    "scrolled": true
   },
   "outputs": [
    {
     "data": {
      "text/html": [
       "<div>\n",
       "<style scoped>\n",
       "    .dataframe tbody tr th:only-of-type {\n",
       "        vertical-align: middle;\n",
       "    }\n",
       "\n",
       "    .dataframe tbody tr th {\n",
       "        vertical-align: top;\n",
       "    }\n",
       "\n",
       "    .dataframe thead th {\n",
       "        text-align: right;\n",
       "    }\n",
       "</style>\n",
       "<table border=\"1\" class=\"dataframe\">\n",
       "  <thead>\n",
       "    <tr style=\"text-align: right;\">\n",
       "      <th></th>\n",
       "      <th>user_id</th>\n",
       "      <th>likes</th>\n",
       "      <th>views</th>\n",
       "      <th>ctr</th>\n",
       "    </tr>\n",
       "    <tr>\n",
       "      <th>exp_group</th>\n",
       "      <th></th>\n",
       "      <th></th>\n",
       "      <th></th>\n",
       "      <th></th>\n",
       "    </tr>\n",
       "  </thead>\n",
       "  <tbody>\n",
       "    <tr>\n",
       "      <th>1</th>\n",
       "      <td>10079</td>\n",
       "      <td>10079</td>\n",
       "      <td>10079</td>\n",
       "      <td>10079</td>\n",
       "    </tr>\n",
       "    <tr>\n",
       "      <th>2</th>\n",
       "      <td>9952</td>\n",
       "      <td>9952</td>\n",
       "      <td>9952</td>\n",
       "      <td>9952</td>\n",
       "    </tr>\n",
       "  </tbody>\n",
       "</table>\n",
       "</div>"
      ],
      "text/plain": [
       "           user_id  likes  views    ctr\n",
       "exp_group                              \n",
       "1            10079  10079  10079  10079\n",
       "2             9952   9952   9952   9952"
      ]
     },
     "execution_count": 12,
     "metadata": {},
     "output_type": "execute_result"
    }
   ],
   "source": [
    "#Так как в наших данных уже уже есть группы (1,2),\n",
    "#на которых был реализован новый алгоритм рекомендации постов, выберим необходимые группы сразу, реализуя наш запрос к БД:\n",
    "q = \"\"\"\n",
    "SELECT exp_group, \n",
    "    user_id,\n",
    "    sum(action = 'like') as likes,\n",
    "    sum(action = 'view') as views,\n",
    "    likes/views as ctr\n",
    "FROM {db}.feed_actions \n",
    "WHERE toDate(time) between '2023-04-01' and '2023-04-07'\n",
    "    and exp_group in (1,2)\n",
    "GROUP BY exp_group, user_id\n",
    "\"\"\"\n",
    "\n",
    "df = ph.read_clickhouse(q, connection=connection)\n",
    "\n",
    "df.groupby('exp_group').count()"
   ]
  },
  {
   "cell_type": "markdown",
   "id": "aace8574-547c-42d0-a623-f8dc556de167",
   "metadata": {},
   "source": [
    "В группе 2 был использован один из новых алгоритмов рекомендации постов, группа 1 использовалась в качестве контроля. \n",
    "Основная гипотеза заключается в том, что новый алгоритм во 2-й группе приведет к увеличению CTR. \n",
    "H0 - изменений нет\n",
    "H1 - CTR увеличится"
   ]
  },
  {
   "cell_type": "code",
   "execution_count": 13,
   "id": "6a72588e-c6eb-42ab-80c3-e58e4270b76b",
   "metadata": {},
   "outputs": [],
   "source": [
    "exp_group_A = df.query(\"exp_group == 1\") #Выбираем из БД группу А с группой 2\n",
    "exp_group_B = df.query(\"exp_group == 2\") #Выбираем из БД группу B с группой 3"
   ]
  },
  {
   "cell_type": "code",
   "execution_count": 14,
   "id": "40af6bee-e9a2-410e-88d6-60b64df7522e",
   "metadata": {},
   "outputs": [],
   "source": [
    "ttest_res = ttest_ind(exp_group_A.ctr, exp_group_B.ctr, equal_var = False) # Проведем TTest"
   ]
  },
  {
   "cell_type": "code",
   "execution_count": 15,
   "id": "261d06f1-b2e6-460b-83ca-76891631d28c",
   "metadata": {},
   "outputs": [
    {
     "data": {
      "text/plain": [
       "Ttest_indResult(statistic=0.7094392041270486, pvalue=0.4780623130874935)"
      ]
     },
     "execution_count": 15,
     "metadata": {},
     "output_type": "execute_result"
    }
   ],
   "source": [
    "ttest_res #Выведим результат"
   ]
  },
  {
   "cell_type": "markdown",
   "id": "dc67f695-5e24-48aa-af0b-08a910748dae",
   "metadata": {},
   "source": [
    "Ттест показал p-value 0.47, что говорит нам об отсутствии отличий. Посмотрим график наших групп."
   ]
  },
  {
   "cell_type": "code",
   "execution_count": 16,
   "id": "830e94d8-f255-4c97-9511-c76ae1b78dbd",
   "metadata": {},
   "outputs": [
    {
     "data": {
      "image/png": "[encoded data removed]",
      "text/plain": [
       "<Figure size 432x288 with 1 Axes>"
      ]
     },
     "metadata": {
      "needs_background": "light"
     },
     "output_type": "display_data"
    }
   ],
   "source": [
    "groups = sns.histplot(data = df, \n",
    "              x='ctr', \n",
    "              hue='exp_group', \n",
    "              palette = ['r', 'b'],\n",
    "              alpha=0.5,\n",
    "              kde=False)"
   ]
  },
  {
   "cell_type": "markdown",
   "id": "7121315a-b2af-40b5-8606-b7ccaa3a82e4",
   "metadata": {},
   "source": [
    "Видим очевидные различия. Продолжим исследование и применим другие тесты."
   ]
  },
  {
   "cell_type": "code",
   "execution_count": 19,
   "id": "2a90d231-6617-4617-b27b-63e1592c0bb0",
   "metadata": {},
   "outputs": [
    {
     "name": "stdout",
     "output_type": "stream",
     "text": [
      "MannwhitneyuResult(statistic=56601260.5, pvalue=6.0376484617779035e-56)\n",
      "pvalue < 0.05. Тест подтверждает различия.\n",
      "B 55.92 % случаев А > B. Т.е. отличия в выборках у нас есть. Пусть и небольшие.\n"
     ]
    }
   ],
   "source": [
    "print(stats.mannwhitneyu(df[df.exp_group == 1].ctr, \n",
    "                   df[df.exp_group == 2].ctr,\n",
    "                   alternative = 'two-sided'))\n",
    "print('pvalue < 0.05. Тест подтверждает различия.')\n",
    "A_gt_B = 0\n",
    "for _ in range(10000):\n",
    "    A_gt_B += exp_group_A.ctr.sample().values[0] > exp_group_B.ctr.sample().values[0]\n",
    "print('B', A_gt_B / 100, '% случаев А > B. Т.е. отличия в выборках у нас есть. Пусть и небольшие.')\n"
   ]
  },
  {
   "cell_type": "markdown",
   "id": "cfb8701a-134f-42a3-bdce-ea544792ea5d",
   "metadata": {},
   "source": [
    "Продолжим наше исследование, т.к. результаты по итогам двух тестов противоречивые."
   ]
  },
  {
   "cell_type": "markdown",
   "id": "37cfe1cf-d995-4d24-9775-33b4057666ed",
   "metadata": {},
   "source": [
    "# Сглаживание CTR"
   ]
  },
  {
   "cell_type": "code",
   "execution_count": 20,
   "id": "a01cc093-bbdb-4797-b36d-3d1ed76f3727",
   "metadata": {},
   "outputs": [],
   "source": [
    "def get_smothed_ctr(user_likes, user_views, global_ctr, alpha):\n",
    "    smothed_ctr = (user_likes + alpha * global_ctr) / (user_views + alpha)\n",
    "    return smothed_ctr # построим функцию для подсчета сглаженного CTR"
   ]
  },
  {
   "cell_type": "code",
   "execution_count": 21,
   "id": "9e41100a-590d-4960-a765-b8e3cda728a8",
   "metadata": {},
   "outputs": [],
   "source": [
    "global_ctr_1 = df[df.exp_group == 1].likes.sum() / df[df.exp_group == 1].views.sum() #считаем глобальный CTR\n",
    "global_ctr_2 = df[df.exp_group == 2].likes.sum() / df[df.exp_group == 2].views.sum()"
   ]
  },
  {
   "cell_type": "markdown",
   "id": "89fc2760-de6f-4ae0-ab61-6df6447de7f7",
   "metadata": {},
   "source": [
    "Построим график обычного CTR"
   ]
  },
  {
   "cell_type": "code",
   "execution_count": 22,
   "id": "b6f3568a-c24a-45eb-be75-eb91e1b8157c",
   "metadata": {},
   "outputs": [
    {
     "data": {
      "image/png": "[encoded data removed]",
      "text/plain": [
       "<Figure size 360x360 with 1 Axes>"
      ]
     },
     "metadata": {
      "needs_background": "light"
     },
     "output_type": "display_data"
    }
   ],
   "source": [
    "group1 = df[df.exp_group == 1].copy()\n",
    "sns.displot(group1.ctr, kde = False)\n",
    "plt.title('Обычный CTR 1 группа')\n",
    "plt.xlabel('CTR')\n",
    "plt.ylabel('Частота')\n",
    "plt.show()\n",
    "\n"
   ]
  },
  {
   "cell_type": "markdown",
   "id": "a3ce17d7-2d4f-47ba-b890-f1175880a2ea",
   "metadata": {},
   "source": [
    "Теперь сглаженный CTR"
   ]
  },
  {
   "cell_type": "code",
   "execution_count": 23,
   "id": "fb991ce8-2ddc-44e5-8d52-f2d8fc4816ed",
   "metadata": {},
   "outputs": [],
   "source": [
    "group1['smothed_ctr'] = df.apply(lambda x: get_smothed_ctr(x['likes'], x['views'], global_ctr_1, 5), axis = 1) #применим нашу функцию и выберим альфу 5%"
   ]
  },
  {
   "cell_type": "code",
   "execution_count": 24,
   "id": "6aa1c60c-7f75-44a1-b431-68b395d29eae",
   "metadata": {},
   "outputs": [
    {
     "data": {
      "image/png": "[encoded data removed]",
      "text/plain": [
       "<Figure size 360x360 with 1 Axes>"
      ]
     },
     "metadata": {
      "needs_background": "light"
     },
     "output_type": "display_data"
    }
   ],
   "source": [
    "sns.displot(group1.smothed_ctr, kde = False)\n",
    "plt.title('Сглаженный CTR 1 группа')\n",
    "plt.xlabel('CTR')\n",
    "plt.ylabel('Частота')\n",
    "plt.show()"
   ]
  },
  {
   "cell_type": "markdown",
   "id": "b1a7243e-8d62-4cee-b67b-facee7f5f7cf",
   "metadata": {},
   "source": [
    "Повторим проделанные шаги для второй группы"
   ]
  },
  {
   "cell_type": "code",
   "execution_count": 25,
   "id": "828dd264-5de2-4ce7-855e-b4f59c1aba9e",
   "metadata": {},
   "outputs": [
    {
     "data": {
      "image/png": "[encoded data removed]",
      "text/plain": [
       "<Figure size 360x360 with 1 Axes>"
      ]
     },
     "metadata": {
      "needs_background": "light"
     },
     "output_type": "display_data"
    }
   ],
   "source": [
    "group2 = df[df.exp_group == 2].copy()\n",
    "sns.displot(group2.ctr, kde = False)\n",
    "plt.title('Обычный CTR 2 группа')\n",
    "plt.xlabel('CTR')\n",
    "plt.ylabel('Частота')\n",
    "plt.show()\n",
    "\n"
   ]
  },
  {
   "cell_type": "markdown",
   "id": "97808503-07ca-4e3a-9f84-670925947334",
   "metadata": {},
   "source": [
    "Теперь сглаженный CTR"
   ]
  },
  {
   "cell_type": "code",
   "execution_count": 26,
   "id": "4fdcdfe3-d35e-4dd7-9c40-4c5bf5772a5a",
   "metadata": {},
   "outputs": [],
   "source": [
    "group2['smothed_ctr'] = df.apply(lambda x: get_smothed_ctr(x['likes'], x['views'], global_ctr_2, 5), axis = 1) #применим нашу функцию и выберем альфу 5%"
   ]
  },
  {
   "cell_type": "code",
   "execution_count": 27,
   "id": "accacea4-d834-4402-bd54-eee9cdfff672",
   "metadata": {},
   "outputs": [
    {
     "data": {
      "image/png": "[encoded data removed]",
      "text/plain": [
       "<Figure size 360x360 with 1 Axes>"
      ]
     },
     "metadata": {
      "needs_background": "light"
     },
     "output_type": "display_data"
    }
   ],
   "source": [
    "sns.displot(group2.smothed_ctr, kde = False)\n",
    "plt.title('Сглаженный CTR 2 группа')\n",
    "plt.xlabel('CTR')\n",
    "plt.ylabel('Частота')\n",
    "plt.show()"
   ]
  },
  {
   "cell_type": "markdown",
   "id": "ee133278-6ab7-4690-a29b-d5693c66b196",
   "metadata": {},
   "source": [
    "Итак, построили сглаженный CTR, посмотрели на графики. Уже по графикам видны изменения, особенно в тестовой группе. Давайте посмотрим сглаженный CTR в ttest."
   ]
  },
  {
   "cell_type": "code",
   "execution_count": 28,
   "id": "a242ecf3",
   "metadata": {},
   "outputs": [
    {
     "data": {
      "text/plain": [
       "Ttest_indResult(statistic=2.2841320431616983, pvalue=0.0223769815558559)"
      ]
     },
     "execution_count": 28,
     "metadata": {},
     "output_type": "execute_result"
    }
   ],
   "source": [
    "ttest_ind(group1.smothed_ctr, group2.smothed_ctr, equal_var = False)"
   ]
  },
  {
   "cell_type": "markdown",
   "id": "2e64d460-56d9-437c-b94a-19d4464624e2",
   "metadata": {},
   "source": [
    "Видим прокрас по сглаженному CTR (pval < 0.05). Мы отвергаем H0 о том, что наши распределения одинаковые. Данный вывод подкрепляется визуально на графиках."
   ]
  },
  {
   "cell_type": "markdown",
   "id": "a551d728-379c-47fe-9835-7c2e56794e2b",
   "metadata": {},
   "source": [
    "#### Вернемся к нашему первому графику."
   ]
  },
  {
   "cell_type": "code",
   "execution_count": 29,
   "id": "dcd3a759-807f-4637-9e93-995658b27265",
   "metadata": {},
   "outputs": [
    {
     "name": "stdout",
     "output_type": "stream",
     "text": [
      "0.20802680490126244 0.1980601844115994\n"
     ]
    },
    {
     "data": {
      "image/png": "[encoded data removed]",
      "text/plain": [
       "<Figure size 432x288 with 1 Axes>"
      ]
     },
     "metadata": {
      "needs_background": "light"
     },
     "output_type": "display_data"
    }
   ],
   "source": [
    "groups = sns.histplot(data = df, \n",
    "              x = 'ctr', \n",
    "              hue = 'exp_group', \n",
    "              palette = ['r', 'b'],\n",
    "              alpha = 0.5,\n",
    "              kde = False)\n",
    "print(global_ctr_1,global_ctr_2)"
   ]
  },
  {
   "cell_type": "markdown",
   "id": "75fa13ce-6255-4746-9444-8d4e5fedacfb",
   "metadata": {},
   "source": [
    "По графику видно, что группы,очевидно, различные. Но глобальные CTR двух групп почти одинаковый! Вероятнее всего, наши тесты, показывающие отсутствие различий, плохо чувствительны к нашим распределениям."
   ]
  },
  {
   "cell_type": "markdown",
   "id": "addddca0-b504-4d0f-9ac1-8eed48ec922f",
   "metadata": {},
   "source": [
    "# Пуассоновский бутстреп"
   ]
  },
  {
   "cell_type": "code",
   "execution_count": 30,
   "id": "bc74590a-7067-4c9b-9faa-2dbf7f288d3c",
   "metadata": {},
   "outputs": [],
   "source": [
    "def bootstrap(likes1, views1, likes2, views2, n_bootstrap = 2000): #создаем функцию бутстрепа\n",
    "\n",
    "    poisson_bootstraps1 = stats.poisson(1).rvs(\n",
    "        (n_bootstrap, len(likes1))).astype(np.int64)\n",
    "\n",
    "    poisson_bootstraps2 = stats.poisson(1).rvs(\n",
    "            (n_bootstrap, len(likes2))).astype(np.int64)\n",
    "    \n",
    "    globalCTR1 = (poisson_bootstraps1 * likes1).sum(axis = 1) / (poisson_bootstraps1 * views1).sum(axis = 1)\n",
    "    \n",
    "    globalCTR2 = (poisson_bootstraps2 * likes2).sum(axis = 1) / (poisson_bootstraps2 * views2).sum(axis = 1)\n",
    "\n",
    "    return globalCTR1, globalCTR2"
   ]
  },
  {
   "cell_type": "code",
   "execution_count": 31,
   "id": "61bf8823-28e3-457f-b60b-aa4046a65227",
   "metadata": {},
   "outputs": [],
   "source": [
    "likes1 = df[df.exp_group == 1].likes.to_numpy() #выбираем лайки 1 группы \n",
    "views1 = df[df.exp_group == 1].views.to_numpy() #выбираем просмотры 1 группы \n",
    "likes2 = df[df.exp_group == 2].likes.to_numpy() #выбираем лайки 2 группы \n",
    "views2 = df[df.exp_group == 2].views.to_numpy() #выбираем просмотры 2 группы "
   ]
  },
  {
   "cell_type": "code",
   "execution_count": 32,
   "id": "ad047a8b-a5dc-4515-a6df-88a18ab4b85f",
   "metadata": {},
   "outputs": [],
   "source": [
    "ctr1, ctr2 = bootstrap(likes1, views1, likes2, views2) #создаем переменные под наши ctr"
   ]
  },
  {
   "cell_type": "code",
   "execution_count": 33,
   "id": "e52aabd1-ef1e-42f6-9cc4-95e047efc63f",
   "metadata": {},
   "outputs": [
    {
     "data": {
      "text/plain": [
       "<AxesSubplot:ylabel='Count'>"
      ]
     },
     "execution_count": 33,
     "metadata": {},
     "output_type": "execute_result"
    },
    {
     "data": {
      "image/png": "[encoded data removed]",
      "text/plain": [
       "<Figure size 432x288 with 1 Axes>"
      ]
     },
     "metadata": {
      "needs_background": "light"
     },
     "output_type": "display_data"
    }
   ],
   "source": [
    "sns.histplot(ctr1) #строим графики\n",
    "sns.histplot(ctr2)"
   ]
  },
  {
   "cell_type": "markdown",
   "id": "d8ef83d4-6ef0-4b49-8c1b-65187f57f2b6",
   "metadata": {},
   "source": [
    "Итак, по графику видим ухудшения в тестовой группе(справа), что не есть хорошо."
   ]
  },
  {
   "cell_type": "markdown",
   "id": "6f5f0d75-04a1-4cd8-962c-be07c5742c85",
   "metadata": {},
   "source": [
    "# Распределение разницы CTR"
   ]
  },
  {
   "cell_type": "code",
   "execution_count": 34,
   "id": "44232c64-5911-417c-b7b3-c5e633c997c3",
   "metadata": {},
   "outputs": [
    {
     "data": {
      "text/plain": [
       "<AxesSubplot:ylabel='Count'>"
      ]
     },
     "execution_count": 34,
     "metadata": {},
     "output_type": "execute_result"
    },
    {
     "data": {
      "image/png": "[encoded data removed]",
      "text/plain": [
       "<Figure size 432x288 with 1 Axes>"
      ]
     },
     "metadata": {
      "needs_background": "light"
     },
     "output_type": "display_data"
    }
   ],
   "source": [
    "sns.histplot(ctr2 - ctr1)"
   ]
  },
  {
   "cell_type": "markdown",
   "id": "66f5fee7-a0fb-4907-921a-06a17d943da8",
   "metadata": {},
   "source": [
    "Распределение лежит слева от нуля, что говорит нам об ухудшении показателей тестовой группы."
   ]
  },
  {
   "cell_type": "markdown",
   "id": "77eda8b5-3962-41e4-ae9e-3db73f1ad4ea",
   "metadata": {},
   "source": [
    "# Бакетное преобразование"
   ]
  },
  {
   "cell_type": "markdown",
   "id": "c9a5e799-c413-4442-9bff-aa6b0162e53c",
   "metadata": {},
   "source": [
    "Зделаем запрос с помощью кликхаус"
   ]
  },
  {
   "cell_type": "code",
   "execution_count": 35,
   "id": "2a76d590-6dc5-429d-873d-3dc18451676f",
   "metadata": {},
   "outputs": [],
   "source": [
    "q = \"\"\"\n",
    "\n",
    "SELECT exp_group, bucket,\n",
    "    sum(likes)/sum(views) as bucket_ctr,\n",
    "    quantileExact(0.9)(ctr) as ctr9\n",
    "FROM (SELECT exp_group, \n",
    "        xxHash64(user_id)%50 as bucket,\n",
    "        user_id,\n",
    "        sum(action = 'like') as likes,\n",
    "        sum(action = 'view') as views,\n",
    "        likes/views as ctr\n",
    "    FROM {db}.feed_actions \n",
    "    WHERE toDate(time) between '2023-04-01' and '2023-04-07'\n",
    "        and exp_group in (1,2)\n",
    "    GROUP BY exp_group, bucket, user_id)\n",
    "GROUP BY exp_group, bucket\n",
    "\"\"\"\n",
    "\n",
    "df2 = ph.read_clickhouse(q, connection=connection)"
   ]
  },
  {
   "cell_type": "code",
   "execution_count": 36,
   "id": "5a0c8dc3-6e27-4345-8735-7e3fb718003b",
   "metadata": {},
   "outputs": [
    {
     "name": "stdout",
     "output_type": "stream",
     "text": [
      "MannwhitneyuResult(statistic=1995.0, pvalue=2.859963936492646e-07)\n",
      "Ttest_indResult(statistic=5.668234732053979, pvalue=3.4455951649945907e-07)\n"
     ]
    }
   ],
   "source": [
    "print(stats.mannwhitneyu(df2[df2.exp_group == 1].bucket_ctr, \n",
    "                   df2[df2.exp_group == 2].bucket_ctr, \n",
    "                   alternative = 'two-sided'))\n",
    "print(stats.ttest_ind(df2[df2.exp_group == 1].bucket_ctr, \n",
    "                   df2[df2.exp_group == 2].bucket_ctr, \n",
    "                   equal_var = False))"
   ]
  },
  {
   "cell_type": "markdown",
   "id": "bb0a3427-2636-43a7-a98a-549714177d2f",
   "metadata": {},
   "source": [
    "Тест MU и Ttest показывают маленькое значение, т.е. различия у групп есть. Рисуем бакетное распределение"
   ]
  },
  {
   "cell_type": "code",
   "execution_count": 37,
   "id": "f16909ac-53d1-414f-bd55-3d0e093557f3",
   "metadata": {},
   "outputs": [
    {
     "data": {
      "image/png": "[encoded data removed]",
      "text/plain": [
       "<Figure size 432x288 with 1 Axes>"
      ]
     },
     "metadata": {
      "needs_background": "light"
     },
     "output_type": "display_data"
    }
   ],
   "source": [
    "bucketplot = sns.histplot(data = df2, \n",
    "              x='bucket_ctr', \n",
    "              hue='exp_group', \n",
    "              palette = ['r', 'b'],\n",
    "              alpha=0.5,\n",
    "              kde=False)"
   ]
  },
  {
   "cell_type": "markdown",
   "id": "46211712-d365-4213-b7ea-5a1179bb4da0",
   "metadata": {},
   "source": [
    "Очевидные различия."
   ]
  },
  {
   "cell_type": "markdown",
   "id": "40e3e210-0fe3-4b8b-8d18-de6d9d0b5d44",
   "metadata": {},
   "source": [
    "## ВЫВОД\n",
    "#### С помощью теста MU поверх бакетов и графиков распределения мы обнаружили, что наши группы различны. Кроме того, наша тестовая группа, на первый взгляд, показала результаты хуже чем в контрольной группе. По графику распределения ctr 1 и 2 групп, мы видим большой акцент распределения влевую сторону, яму в ctr на уровне 0.2, и более высокий хвост справа, т.е. наш алгоритм перераспределил CTR в разные стороны. Сейчас мы не можем говорить о бесполезности нашего нового алгоритма. Необходимо провести дополнительные исследования, посчитать сколько денег мы получаем с новой группы и сделать окончательный вывод о новой фиче. Можно предложить раскать обновление на часть пользователей, не стоит рисковать из-за неочевидных выводов."
   ]
  },
  {
   "cell_type": "code",
   "execution_count": 38,
   "id": "81d03224-a40d-464e-a2d6-0ef0cbf0cf1f",
   "metadata": {},
   "outputs": [
    {
     "data": {
      "image/png": "[encoded data removed]",
      "text/plain": [
       "<Figure size 432x288 with 1 Axes>"
      ]
     },
     "metadata": {
      "needs_background": "light"
     },
     "output_type": "display_data"
    }
   ],
   "source": [
    "groups = sns.histplot(data = df, \n",
    "              x='ctr', \n",
    "              hue='exp_group', \n",
    "              palette = ['r', 'b'],\n",
    "              alpha=0.5,\n",
    "              kde=False)"
   ]
  },
  {
   "cell_type": "code",
   "execution_count": null,
   "id": "f55bb16e-dd18-417a-8def-3f0b5c0a1a8f",
   "metadata": {},
   "outputs": [],
   "source": []
  }
 ],
 "metadata": {
  "kernelspec": {
   "display_name": "Python 3 (ipykernel)",
   "language": "python",
   "name": "python3"
  },
  "language_info": {
   "codemirror_mode": {
    "name": "ipython",
    "version": 3
   },
   "file_extension": ".py",
   "mimetype": "text/x-python",
   "name": "python",
   "nbconvert_exporter": "python",
   "pygments_lexer": "ipython3",
   "version": "3.9.12"
  }
 },
 "nbformat": 4,
 "nbformat_minor": 5
}
